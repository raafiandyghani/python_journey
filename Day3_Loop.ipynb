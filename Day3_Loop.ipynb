{
 "cells": [
  {
   "cell_type": "code",
   "execution_count": 2,
   "id": "8708af7e",
   "metadata": {},
   "outputs": [
    {
     "name": "stdout",
     "output_type": "stream",
     "text": [
      "Hello 0\n",
      "Hello 1\n",
      "Hello 2\n",
      "Hello 3\n",
      "Hello 4\n",
      "Hello 5\n",
      "Hello 6\n",
      "Hello 7\n"
     ]
    }
   ],
   "source": [
    "x = 0\n",
    "while x <= 7:\n",
    "    print(\"Hello\", x)\n",
    "    x+= 1"
   ]
  },
  {
   "cell_type": "code",
   "execution_count": null,
   "id": "39a3ae88",
   "metadata": {},
   "outputs": [
    {
     "name": "stdout",
     "output_type": "stream",
     "text": [
      "1\n",
      "2\n",
      "3\n",
      "4\n",
      "5\n",
      "6\n",
      "7\n",
      "8\n",
      "9\n",
      "10\n"
     ]
    }
   ],
   "source": [
    "angka = 1\n",
    "while angka <= 10:\n",
    "    print(angka)\n",
    "    angka += 1"
   ]
  },
  {
   "cell_type": "code",
   "execution_count": null,
   "id": "5ac2fc4a",
   "metadata": {},
   "outputs": [
    {
     "name": "stdout",
     "output_type": "stream",
     "text": [
      "Enter a number: 5\n",
      "Enter a number: 4\n",
      "Enter a number: 3\n",
      "Enter a number: 2\n",
      "Enter a number: 1\n",
      "Enter a number: 0\n"
     ]
    }
   ],
   "source": [
    "x = int(input(\"Enter a number: \"))\n",
    "while x >=0:\n",
    "    print(x)\n",
    "    x -= 1"
   ]
  },
  {
   "cell_type": "code",
   "execution_count": 9,
   "id": "ed3ebc4a",
   "metadata": {},
   "outputs": [
    {
     "name": "stdout",
     "output_type": "stream",
     "text": [
      "Wrong!\n",
      "Wrong!\n",
      "Wrong!\n",
      "Access Granted!\n"
     ]
    }
   ],
   "source": [
    "password = \"swordfish\"\n",
    "user_input = input(\"Enter password: \")\n",
    "\n",
    "\n",
    "while user_input != password:\n",
    "    print(\"Wrong!\")\n",
    "    user_input = input(\"Try again: \")\n",
    "else:\n",
    "    print(\"Access Granted!\")"
   ]
  },
  {
   "cell_type": "code",
   "execution_count": 18,
   "id": "8f59056c",
   "metadata": {},
   "outputs": [
    {
     "name": "stdout",
     "output_type": "stream",
     "text": [
      "Enter number:  12\n",
      "Enter number:  3\n",
      "Enter number:  5\n",
      "Enter number:  6\n",
      "Total:  26\n"
     ]
    }
   ],
   "source": [
    "#x = int(input(\"Enter number: \"))\n",
    "#y = \"done\"\n",
    "#sum = 0\n",
    "\n",
    "#while x != y:\n",
    "#    print(f\"Enter number: {x}\")\n",
    "#    sum += x\n",
    "#    x = int(input(\"Enter number again: \"))\n",
    "#else:\n",
    "#    print(\"total:\", sum)\n",
    "\n",
    "\n",
    "sum = 0\n",
    "\n",
    "while True:\n",
    "    x = input(\"Enter number: \")\n",
    "\n",
    "    if x.lower() == \"done\":\n",
    "        break\n",
    "    if x.isdigit():\n",
    "        print(\"Enter number: \", x)\n",
    "        sum += int(x)\n",
    "    else:\n",
    "        print(\"That's not a valid number!\")\n",
    "\n",
    "print(\"Total: \", sum)"
   ]
  },
  {
   "cell_type": "markdown",
   "id": "1e868442",
   "metadata": {},
   "source": [
    "FOR LOOP"
   ]
  },
  {
   "cell_type": "code",
   "execution_count": 1,
   "id": "fe909a43",
   "metadata": {},
   "outputs": [
    {
     "name": "stdout",
     "output_type": "stream",
     "text": [
      "I like apple\n",
      "I like banana\n",
      "I like durian\n"
     ]
    }
   ],
   "source": [
    "for fruits in [\"apple\", \"banana\", \"durian\"]:\n",
    "    print(\"I like\", fruits)"
   ]
  },
  {
   "cell_type": "code",
   "execution_count": 8,
   "id": "589faaf3",
   "metadata": {},
   "outputs": [
    {
     "name": "stdout",
     "output_type": "stream",
     "text": [
      "I like rice\n",
      "I like noodle\n",
      "I like skewer\n",
      "I like meatball\n"
     ]
    }
   ],
   "source": [
    "food = [\"rice\",\"noodle\", \"skewer\", \"meatball\"]\n",
    "\n",
    "for dish in food:\n",
    "    print(\"I like\", dish)"
   ]
  },
  {
   "cell_type": "code",
   "execution_count": null,
   "id": "5906b455",
   "metadata": {},
   "outputs": [
    {
     "name": "stdout",
     "output_type": "stream",
     "text": [
      "2\n",
      "4\n",
      "6\n",
      "8\n"
     ]
    }
   ],
   "source": [
    "for i in range (1, 11):\n",
    "    if i % 2 == 0:\n",
    "        print(i)"
   ]
  },
  {
   "cell_type": "code",
   "execution_count": 11,
   "id": "8d50db4d",
   "metadata": {},
   "outputs": [
    {
     "name": "stdout",
     "output_type": "stream",
     "text": [
      "0 a\n",
      "1 b\n",
      "2 c\n"
     ]
    }
   ],
   "source": [
    "for index, item in enumerate([\"a\", \"b\", \"c\"]):\n",
    "    print(index, item)\n"
   ]
  },
  {
   "cell_type": "code",
   "execution_count": 15,
   "id": "68994826",
   "metadata": {},
   "outputs": [
    {
     "name": "stdout",
     "output_type": "stream",
     "text": [
      "0 bangun\n",
      "1 ngoding\n",
      "2 makan\n",
      "3 tidur\n"
     ]
    }
   ],
   "source": [
    "for index, todo in enumerate ([\"bangun\", \"ngoding\", \"makan\", \"tidur\"]):\n",
    "    print(index, todo)"
   ]
  },
  {
   "cell_type": "code",
   "execution_count": 16,
   "id": "f4b2a9a0",
   "metadata": {},
   "outputs": [
    {
     "name": "stdout",
     "output_type": "stream",
     "text": [
      "5050\n"
     ]
    }
   ],
   "source": [
    "total = 0\n",
    "for i in range(1, 101):\n",
    "    total += i\n",
    "print(total)\n"
   ]
  }
 ],
 "metadata": {
  "kernelspec": {
   "display_name": "Python 3",
   "language": "python",
   "name": "python3"
  },
  "language_info": {
   "codemirror_mode": {
    "name": "ipython",
    "version": 3
   },
   "file_extension": ".py",
   "mimetype": "text/x-python",
   "name": "python",
   "nbconvert_exporter": "python",
   "pygments_lexer": "ipython3",
   "version": "3.10.11"
  }
 },
 "nbformat": 4,
 "nbformat_minor": 5
}
