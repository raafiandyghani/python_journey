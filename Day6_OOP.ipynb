{
 "cells": [
  {
   "cell_type": "code",
   "execution_count": 1,
   "id": "3c158589",
   "metadata": {},
   "outputs": [
    {
     "name": "stdout",
     "output_type": "stream",
     "text": [
      "Hi! I'm Raafi and I major in Computer Science\n"
     ]
    }
   ],
   "source": [
    "class Student:\n",
    "    def __init__(self, name, major):\n",
    "        self.name = name\n",
    "        self.major = major\n",
    "\n",
    "    def introduce(self):\n",
    "        print(f\"Hi! I'm {self.name} and I major in {self.major}\")\n",
    "\n",
    "raafi = Student(\"Raafi\", \"Computer Science\")\n",
    "raafi.introduce()\n"
   ]
  },
  {
   "cell_type": "code",
   "execution_count": 5,
   "id": "6e41f85d",
   "metadata": {},
   "outputs": [
    {
     "name": "stdout",
     "output_type": "stream",
     "text": [
      "This is Toothless, a Dragon, 56 years old\n"
     ]
    }
   ],
   "source": [
    "class Pet:\n",
    "    def __init__(self, name, animal_type, age):\n",
    "        self.name = name\n",
    "        self.animal_type = animal_type\n",
    "        self.age = age\n",
    "\n",
    "    def introduce(self):\n",
    "        print(f\"This is {self.name}, a {self.animal_type}, {self.age} years old\")\n",
    "\n",
    "dadang = Pet(\"Toothless\", \"Dragon\", 56)\n",
    "dadang.introduce()"
   ]
  },
  {
   "cell_type": "code",
   "execution_count": 9,
   "id": "a632ea5b",
   "metadata": {},
   "outputs": [
    {
     "name": "stdout",
     "output_type": "stream",
     "text": [
      "Honda Jazz (2019)\n"
     ]
    },
    {
     "data": {
      "text/plain": [
       "'The Honda Jazz 2019 was secondhand'"
      ]
     },
     "execution_count": 9,
     "metadata": {},
     "output_type": "execute_result"
    }
   ],
   "source": [
    "class Car:\n",
    "    def __init__(self, brand, model, year):\n",
    "        self.brand = brand\n",
    "        self.model = model\n",
    "        self.year = year\n",
    "    def display_info(self):\n",
    "        print(f\"{self.brand} {self.model} ({self.year})\")\n",
    "    def is_new(self):\n",
    "        if self.year >= 2020:\n",
    "           return f\"{self.brand} {self.model} {self.year} is brand new from the factory\"\n",
    "        else:\n",
    "            return f\"The {self.brand} {self.model} {self.year} was secondhand\"\n",
    "\n",
    "x = Car(\"Honda\", \"Jazz\", 2019)\n",
    "x.display_info()\n",
    "x.is_new()"
   ]
  }
 ],
 "metadata": {
  "kernelspec": {
   "display_name": "Python 3",
   "language": "python",
   "name": "python3"
  },
  "language_info": {
   "codemirror_mode": {
    "name": "ipython",
    "version": 3
   },
   "file_extension": ".py",
   "mimetype": "text/x-python",
   "name": "python",
   "nbconvert_exporter": "python",
   "pygments_lexer": "ipython3",
   "version": "3.10.11"
  }
 },
 "nbformat": 4,
 "nbformat_minor": 5
}
