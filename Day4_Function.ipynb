{
 "cells": [
  {
   "cell_type": "code",
   "execution_count": 3,
   "id": "81cbb489",
   "metadata": {},
   "outputs": [
    {
     "name": "stdout",
     "output_type": "stream",
     "text": [
      "Hello there!\n"
     ]
    }
   ],
   "source": [
    "def say_hello():\n",
    "    print(\"Hello there!\")\n",
    "say_hello()"
   ]
  },
  {
   "cell_type": "code",
   "execution_count": null,
   "id": "a33b5088",
   "metadata": {},
   "outputs": [
    {
     "name": "stdout",
     "output_type": "stream",
     "text": [
      "Hello! Welcome to Python Dungeon\n",
      "Hello! Welcome to Python Dungeon\n",
      "Hello! Welcome to Python Dungeon\n"
     ]
    }
   ],
   "source": [
    "def greet():\n",
    "    print(\"Hello! Welcome to Python Dungeon\")\n",
    "\n",
    "for _ in range(3): #karena ga butuh nilai jadi pake _ dan gnulang doang\n",
    "    greet()"
   ]
  },
  {
   "cell_type": "code",
   "execution_count": null,
   "id": "441b2a83",
   "metadata": {},
   "outputs": [
    {
     "name": "stdout",
     "output_type": "stream",
     "text": [
      "1 Welcome to Python Dungeon\n",
      "2 Welcome to Python Dungeon\n",
      "3 Welcome to Python Dungeon\n"
     ]
    }
   ],
   "source": [
    "def greet(number):\n",
    "    print(f\"{number} Welcome to Python Dungeon\")\n",
    "\n",
    "\n",
    " i in range(1,4): #kalo kayak gini ngasih range angka index jadi mulai nya dari 1 instead of 0\n",
    "    greet(i)"
   ]
  },
  {
   "cell_type": "code",
   "execution_count": 27,
   "id": "1a7221d3",
   "metadata": {},
   "outputs": [
    {
     "name": "stdout",
     "output_type": "stream",
     "text": [
      "Hi, my name is Raafi, and I like playing game\n",
      "Hi, my name is Geralt, and I like hunting monsters\n",
      "Hi, my name is Yae Miko, and I like writing light novels\n",
      "Hi, my name is YOU, and I like ngoding sampe pagi\n"
     ]
    }
   ],
   "source": [
    "def introduce(name, hobby):\n",
    "    print(f\"Hi, my name is {name}, and I like {hobby}\")\n",
    "introduce(\"Raafi\", \"playing game\")\n",
    "introduce(\"Geralt\", \"hunting monsters\")\n",
    "introduce(\"Yae Miko\", \"writing light novels\")\n",
    "introduce(\"YOU\", \"ngoding sampe pagi\")\n"
   ]
  },
  {
   "cell_type": "code",
   "execution_count": 35,
   "id": "39908cf3",
   "metadata": {},
   "outputs": [
    {
     "name": "stdout",
     "output_type": "stream",
     "text": [
      "Hi, my name is raafi, and I like makan bakso\n"
     ]
    }
   ],
   "source": [
    "name = input()\n",
    "hobby = input()\n",
    "def introduce(name, hobby):\n",
    "    print(f\"Hi, my name is {name}, and I like {hobby}\")\n",
    "\n",
    "introduce(name, hobby)"
   ]
  },
  {
   "cell_type": "code",
   "execution_count": 40,
   "id": "6e69dc0d",
   "metadata": {},
   "outputs": [
    {
     "name": "stdout",
     "output_type": "stream",
     "text": [
      "16\n"
     ]
    }
   ],
   "source": [
    "def square(x):\n",
    "    return x * x\n",
    "hasil = square(4)\n",
    "print(hasil)"
   ]
  },
  {
   "cell_type": "code",
   "execution_count": 48,
   "id": "68cc1612",
   "metadata": {},
   "outputs": [
    {
     "name": "stdout",
     "output_type": "stream",
     "text": [
      "Your BMI is: 0.0020987654320987655\n"
     ]
    }
   ],
   "source": [
    "weight = int(input(\"Your weight in kg: \"))\n",
    "height = float(input(\"Your height in meters: \"))\n",
    "\n",
    "def calculate_bmi(weight, height):\n",
    "    bmi = weight / (height ** 2)\n",
    "    return bmi\n",
    "\n",
    "print(\"Your BMI is:\", calculate_bmi(weight, height))\n"
   ]
  },
  {
   "cell_type": "code",
   "execution_count": 51,
   "id": "4c0474c6",
   "metadata": {},
   "outputs": [
    {
     "name": "stdout",
     "output_type": "stream",
     "text": [
      "Your Grade is: C Congrats!\n"
     ]
    }
   ],
   "source": [
    "score = int(input(\"Put your score here: \"))\n",
    "\n",
    "def grade (score):\n",
    "    if score >= 90:\n",
    "        return \"A\"\n",
    "    elif score >= 80:\n",
    "        return \"B\"\n",
    "    else:\n",
    "        return \"C\"\n",
    "    \n",
    "print(\"Your Grade is:\", grade(score), \"Congrats!\")"
   ]
  },
  {
   "cell_type": "code",
   "execution_count": null,
   "id": "ddf60b34",
   "metadata": {},
   "outputs": [
    {
     "name": "stdout",
     "output_type": "stream",
     "text": [
      "Hello raafi Your Grade is: A Congrats!\n"
     ]
    }
   ],
   "source": [
    "name = input(\"What is your name: \")\n",
    "score = int(input(\"Put your score here: \"))\n",
    "\n",
    "def grade (name, score):\n",
    "    if score >= 90:\n",
    "        return \"A\"\n",
    "    elif score >= 80:\n",
    "        return \"B\"\n",
    "    else:\n",
    "        return \"C\"\n",
    "    \n",
    "print(f\"Hello {name} Your Grade is:\", grade(name, score), \"Congrats!\")"
   ]
  },
  {
   "cell_type": "code",
   "execution_count": null,
   "id": "fe812dc2",
   "metadata": {},
   "outputs": [
    {
     "name": "stdout",
     "output_type": "stream",
     "text": [
      "Hello, Raafi\n",
      "Hello, Sayyidah\n",
      "Hello, Reyhan\n"
     ]
    }
   ],
   "source": [
    "def greet_all(names):\n",
    "    for name in names:\n",
    "        print(f\"Hello, {name}\")\n",
    "\n",
    "students = (\"Raafi\", \"Sayyidah\", \"Reyhan\")\n",
    "greet_all(students)\n"
   ]
  },
  {
   "cell_type": "code",
   "execution_count": 65,
   "id": "d7829bb8",
   "metadata": {},
   "outputs": [
    {
     "name": "stdout",
     "output_type": "stream",
     "text": [
      "3\n",
      "2\n",
      "1\n",
      "Go!\n"
     ]
    }
   ],
   "source": [
    "def countdown(n):\n",
    "    while n > 0:\n",
    "        print(n)\n",
    "        n -= 1\n",
    "    print (\"Go!\")\n",
    "\n",
    "countdown(3)"
   ]
  },
  {
   "cell_type": "code",
   "execution_count": 80,
   "id": "cc9f708e",
   "metadata": {},
   "outputs": [
    {
     "name": "stdout",
     "output_type": "stream",
     "text": [
      "5\n",
      "4\n",
      "3\n",
      "2\n",
      "1\n",
      "Go!\n"
     ]
    }
   ],
   "source": [
    "def countdown(n):\n",
    "    for i in range (n, 0, -1):\n",
    "        print(i)\n",
    "    print(\"Go!\")\n",
    "countdown(5)"
   ]
  },
  {
   "cell_type": "code",
   "execution_count": 82,
   "id": "7153c415",
   "metadata": {},
   "outputs": [
    {
     "name": "stdout",
     "output_type": "stream",
     "text": [
      "This is the outer function.\n",
      "This is the inner function.\n"
     ]
    }
   ],
   "source": [
    "def outer():\n",
    "    def inner():\n",
    "        print(\"This is the inner function.\")\n",
    "    print(\"This is the outer function.\")\n",
    "    inner()\n",
    "\n",
    "outer()\n"
   ]
  },
  {
   "cell_type": "code",
   "execution_count": 86,
   "id": "4bae1aaf",
   "metadata": {},
   "outputs": [
    {
     "name": "stdout",
     "output_type": "stream",
     "text": [
      "Generated Bio: dadang loves karpet\n"
     ]
    }
   ],
   "source": [
    "def process_user(name, hobby):\n",
    "    def format_bio():\n",
    "        return f\"{name} loves {hobby}\"\n",
    "    \n",
    "    bio = format_bio()\n",
    "    print(\"Generated Bio:\", bio)\n",
    "\n",
    "process_user(\"dadang\", \"karpet\")"
   ]
  },
  {
   "cell_type": "code",
   "execution_count": 90,
   "id": "66f216cc",
   "metadata": {},
   "outputs": [
    {
     "name": "stdout",
     "output_type": "stream",
     "text": [
      "Welcome, Raafi! Have a great day\n"
     ]
    }
   ],
   "source": [
    "def welcome_message(name):\n",
    "    def build_message():\n",
    "        return f\"Welcome, {name}! Have a great day\"\n",
    "    \n",
    "    pesan = build_message()\n",
    "    print(pesan)\n",
    "\n",
    "welcome_message(\"Raafi\")"
   ]
  },
  {
   "cell_type": "code",
   "execution_count": 109,
   "id": "5fa550a2",
   "metadata": {},
   "outputs": [
    {
     "name": "stdout",
     "output_type": "stream",
     "text": [
      "Name: Raafi\n",
      "Age: 15\n",
      "Major: Computer Engineering\n",
      "Status: Child\n"
     ]
    }
   ],
   "source": [
    "def student_profile():\n",
    "    name = input(\"What is your name: \")\n",
    "    age = int(input(\"How old are you: \"))\n",
    "    major = input(\"What is your major: \")\n",
    "    def generate_profile():\n",
    "        if age >= 21:\n",
    "            return \"Adult\"\n",
    "        elif age >= 17:\n",
    "            return \"Teen\"\n",
    "        else:\n",
    "            return \"Child\"\n",
    "    status = generate_profile()\n",
    "    print(\"Name:\", name)\n",
    "    print(\"Age:\", age)\n",
    "    print(\"Major:\", major)\n",
    "    print(\"Status:\", status)\n",
    "\n",
    "student_profile()\n",
    "\n"
   ]
  },
  {
   "cell_type": "code",
   "execution_count": 116,
   "id": "4e8a8125",
   "metadata": {},
   "outputs": [
    {
     "name": "stdout",
     "output_type": "stream",
     "text": [
      "Halo dari dalam!\n"
     ]
    }
   ],
   "source": [
    "def luar():\n",
    "    def dalam():\n",
    "        print(\"Halo dari dalam!\")\n",
    "    return dalam\n",
    "greeting = luar()  # <== nangkep fungsi \"dalam\"\n",
    "greeting()         # <== baru dijalanin\n"
   ]
  },
  {
   "cell_type": "code",
   "execution_count": null,
   "id": "bab0ed64",
   "metadata": {},
   "outputs": [],
   "source": []
  },
  {
   "cell_type": "code",
   "execution_count": 117,
   "id": "ae2b1b88",
   "metadata": {},
   "outputs": [
    {
     "name": "stdout",
     "output_type": "stream",
     "text": [
      "Keep going, youre doing great!\n"
     ]
    }
   ],
   "source": [
    "def motivator():\n",
    "    def say():\n",
    "        print(\"Keep going, youre doing great!\")\n",
    "    return say\n",
    "\n",
    "motivasi = motivator()\n",
    "motivasi()\n",
    "\n"
   ]
  },
  {
   "cell_type": "code",
   "execution_count": null,
   "id": "0693c806",
   "metadata": {},
   "outputs": [],
   "source": []
  }
 ],
 "metadata": {
  "kernelspec": {
   "display_name": "Python 3",
   "language": "python",
   "name": "python3"
  },
  "language_info": {
   "codemirror_mode": {
    "name": "ipython",
    "version": 3
   },
   "file_extension": ".py",
   "mimetype": "text/x-python",
   "name": "python",
   "nbconvert_exporter": "python",
   "pygments_lexer": "ipython3",
   "version": "3.10.11"
  }
 },
 "nbformat": 4,
 "nbformat_minor": 5
}
