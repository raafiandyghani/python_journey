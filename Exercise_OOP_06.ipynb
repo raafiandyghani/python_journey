{
 "cells": [
  {
   "cell_type": "code",
   "execution_count": null,
   "id": "ebf74bbd",
   "metadata": {},
   "outputs": [],
   "source": [
    "class RateLimiter:\n",
    "    def __init__(self):\n",
    "        "
   ]
  },
  {
   "cell_type": "code",
   "execution_count": 3,
   "id": "ed878b37",
   "metadata": {},
   "outputs": [
    {
     "name": "stdout",
     "output_type": "stream",
     "text": [
      "Raafi: Halo bro!\n",
      "Raafi: Masih di situ?\n",
      "[REJECTED] Raafi sent message too soon. Please wait.\n"
     ]
    }
   ],
   "source": [
    "import time\n",
    "\n",
    "class ChatUser:\n",
    "    def __init__(self, name):\n",
    "        self.name = name\n",
    "        self.last_message_time = 0  # default: belum pernah ngirim\n",
    "\n",
    "    def send_message(self, message):\n",
    "        current_time = time.time()  # waktu sekarang dalam detik\n",
    "        if current_time - self.last_message_time >= 10:\n",
    "            print(f\"{self.name}: {message}\")\n",
    "            self.last_message_time = current_time  # update waktu terakhir\n",
    "        else:\n",
    "            print(f\"[REJECTED] {self.name} sent message too soon. Please wait.\")\n",
    "\n",
    "\n",
    "user1 = ChatUser(\"Raafi\")\n",
    "\n",
    "user1.send_message(\"Halo bro!\")  # ✅ diterima\n",
    "time.sleep(10)\n",
    "user1.send_message(\"Masih di situ?\")  # ❌ terlalu cepat\n",
    "time.sleep(6)\n",
    "user1.send_message(\"Nah ini udah 10 detik\")  # ✅ diterima\n"
   ]
  },
  {
   "cell_type": "code",
   "execution_count": 7,
   "id": "0b6ccc56",
   "metadata": {},
   "outputs": [
    {
     "name": "stdout",
     "output_type": "stream",
     "text": [
      "True\n",
      "False\n",
      "True\n",
      "True\n",
      "False\n"
     ]
    }
   ],
   "source": [
    "class RateLimiter:\n",
    "    def __init__(self):\n",
    "        self.last_message_time = {}\n",
    "\n",
    "    def allow_request(self, user_id: str, timestamp: int) -> bool:\n",
    "\n",
    "        if user_id not in self.last_message_time:\n",
    "            self.last_message_time[user_id] = timestamp\n",
    "            return True\n",
    "        last_time = self.last_message_time[user_id]\n",
    "        if timestamp - last_time >= 10:\n",
    "            self.last_message_time[user_id] = timestamp\n",
    "            return True\n",
    "        return False\n",
    "        #\"\"\"\n",
    "       # Return True if the user is allowed to send a message at this timestamp.\n",
    "       # Return False if the user is rate-limited.\n",
    "      #  \"\"\"\n",
    "        #pass\n",
    "\n",
    "rl = RateLimiter()\n",
    "\n",
    "print(rl.allow_request(\"user1\", 1))   # True, pertama kali\n",
    "print(rl.allow_request(\"user1\", 5))   # False, baru 4 detik\n",
    "print(rl.allow_request(\"user1\", 11))  # True, lewat 10 detik\n",
    "print(rl.allow_request(\"user2\", 12))  # True, user baru\n",
    "print(rl.allow_request(\"user2\", 15))  # False, belum 10 detik\n"
   ]
  },
  {
   "cell_type": "code",
   "execution_count": 10,
   "id": "510bee3f",
   "metadata": {},
   "outputs": [
    {
     "name": "stdout",
     "output_type": "stream",
     "text": [
      "check_weather\n"
     ]
    }
   ],
   "source": [
    "class IntentTracker:\n",
    "    def __init__(self):\n",
    "        self.user_intents = {}  # {user_id: {intent: count}}\n",
    "\n",
    "    def add_intent(self, user_id: str, intent: str) -> None:\n",
    "        if user_id not in self.user_intents:\n",
    "            self.user_intents[user_id] = {}  # bikin dict kosong buat user\n",
    "\n",
    "        # tambahkan atau update jumlah intent\n",
    "        self.user_intents[user_id][intent] = self.user_intents[user_id].get(intent, 0) + 1\n",
    "\n",
    "    def get_top_intent(self, user_id: str) -> str:\n",
    "        if user_id not in self.user_intents:\n",
    "            return \"\"\n",
    "\n",
    "        intents = self.user_intents[user_id]  # dict of {intent: count}\n",
    "        top = max(intents.items(), key=lambda x: x[1])  # ambil intent dengan count tertinggi\n",
    "        return top[0]\n",
    "\n",
    "tracker = IntentTracker()\n",
    "\n",
    "tracker.add_intent(\"u1\", \"order_pizza\")     # order_pizza = 1\n",
    "tracker.add_intent(\"u1\", \"order_pizza\")     # order_pizza = 2\n",
    "tracker.add_intent(\"u1\", \"check_weather\")   # check_weather = 1\n",
    "tracker.add_intent(\"u1\", \"check_weather\")   # check_weather = 2\n",
    "tracker.add_intent(\"u1\", \"check_weather\")   # check_weather = 3\n",
    "\n",
    "print(tracker.get_top_intent(\"u1\"))  # ✅ \"check_weather\"\n"
   ]
  },
  {
   "cell_type": "code",
   "execution_count": null,
   "id": "3ec8cdd1",
   "metadata": {},
   "outputs": [
    {
     "name": "stdout",
     "output_type": "stream",
     "text": [
      " * Serving Flask app '__main__'\n",
      " * Debug mode: on\n"
     ]
    },
    {
     "name": "stderr",
     "output_type": "stream",
     "text": [
      "WARNING: This is a development server. Do not use it in a production deployment. Use a production WSGI server instead.\n",
      " * Running on http://127.0.0.1:5000\n",
      "Press CTRL+C to quit\n",
      " * Restarting with stat\n"
     ]
    },
    {
     "ename": "SystemExit",
     "evalue": "1",
     "output_type": "error",
     "traceback": [
      "An exception has occurred, use %tb to see the full traceback.\n",
      "\u001b[1;31mSystemExit\u001b[0m\u001b[1;31m:\u001b[0m 1\n"
     ]
    },
    {
     "name": "stderr",
     "output_type": "stream",
     "text": [
      "C:\\Users\\Raafiandy\\AppData\\Local\\Packages\\PythonSoftwareFoundation.Python.3.10_qbz5n2kfra8p0\\LocalCache\\local-packages\\Python310\\site-packages\\IPython\\core\\interactiveshell.py:3585: UserWarning: To exit: use 'exit', 'quit', or Ctrl-D.\n",
      "  warn(\"To exit: use 'exit', 'quit', or Ctrl-D.\", stacklevel=1)\n"
     ]
    }
   ],
   "source": []
  }
 ],
 "metadata": {
  "kernelspec": {
   "display_name": "Python 3",
   "language": "python",
   "name": "python3"
  },
  "language_info": {
   "codemirror_mode": {
    "name": "ipython",
    "version": 3
   },
   "file_extension": ".py",
   "mimetype": "text/x-python",
   "name": "python",
   "nbconvert_exporter": "python",
   "pygments_lexer": "ipython3",
   "version": "3.10.11"
  }
 },
 "nbformat": 4,
 "nbformat_minor": 5
}
