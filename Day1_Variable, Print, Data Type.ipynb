{
 "cells": [
  {
   "cell_type": "code",
   "execution_count": 2,
   "id": "9ee35917",
   "metadata": {},
   "outputs": [
    {
     "name": "stdout",
     "output_type": "stream",
     "text": [
      "Hello world!\n",
      "Hello, my name is Raafi and I'm excited to learn Python!\n"
     ]
    }
   ],
   "source": [
    "print(\"Hello world!\")\n",
    "\n",
    "print(\"Hello, my name is Raafi and I'm excited to learn Python!\")"
   ]
  },
  {
   "cell_type": "code",
   "execution_count": 12,
   "id": "389877ab",
   "metadata": {},
   "outputs": [
    {
     "name": "stdout",
     "output_type": "stream",
     "text": [
      "My favorite food is Mie ayam and my height is 180\n"
     ]
    }
   ],
   "source": [
    "favorite_food = \"Mie ayam\"\n",
    "height = \"180\"\n",
    "\n",
    "print(f\"My favorite food is {favorite_food} and my height is {height}\")"
   ]
  },
  {
   "cell_type": "code",
   "execution_count": 18,
   "id": "6da94c54",
   "metadata": {},
   "outputs": [
    {
     "name": "stdout",
     "output_type": "stream",
     "text": [
      "<class 'str'>\n",
      "<class 'int'>\n"
     ]
    }
   ],
   "source": [
    "name = \"Raafi\"\n",
    "age = 21\n",
    "gpa = 3.4\n",
    "is_graduated = not True\n",
    "\n",
    "type(name)\n",
    "#type(age)\n",
    "#type(gpa)\n",
    "#type(is_graduated)\n",
    "\n",
    "print(type(name))\n",
    "print(type(age))"
   ]
  },
  {
   "cell_type": "code",
   "execution_count": 1,
   "id": "d45cd299",
   "metadata": {},
   "outputs": [
    {
     "name": "stdout",
     "output_type": "stream",
     "text": [
      "Hello \n"
     ]
    }
   ],
   "source": [
    "name = input(\"What is your name? \")\n",
    "print(\"Hello\", name)\n"
   ]
  }
 ],
 "metadata": {
  "kernelspec": {
   "display_name": "Python 3",
   "language": "python",
   "name": "python3"
  },
  "language_info": {
   "codemirror_mode": {
    "name": "ipython",
    "version": 3
   },
   "file_extension": ".py",
   "mimetype": "text/x-python",
   "name": "python",
   "nbconvert_exporter": "python",
   "pygments_lexer": "ipython3",
   "version": "3.10.11"
  }
 },
 "nbformat": 4,
 "nbformat_minor": 5
}
