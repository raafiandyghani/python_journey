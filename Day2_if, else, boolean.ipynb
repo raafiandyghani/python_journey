{
 "cells": [
  {
   "cell_type": "code",
   "execution_count": 3,
   "id": "cc8cbe2c",
   "metadata": {},
   "outputs": [
    {
     "name": "stdout",
     "output_type": "stream",
     "text": [
      "You are allowed to watch a rated R movie. \n"
     ]
    }
   ],
   "source": [
    "age = 18\n",
    "if age >= 17:\n",
    "    print(\"You are allowed to watch a rated R movie. \")\n",
    "else:\n",
    "    print(\"Sorry kid, go watch cartoons.\")"
   ]
  },
  {
   "cell_type": "code",
   "execution_count": 5,
   "id": "7859e48b",
   "metadata": {},
   "outputs": [
    {
     "name": "stdout",
     "output_type": "stream",
     "text": [
      "You need to study more!\n"
     ]
    }
   ],
   "source": [
    "score = 85\n",
    "\n",
    "if score >= 90:\n",
    "    print(\"Grade A\")\n",
    "elif score >= 80:\n",
    "    print(\"Grade B\")\n",
    "else:\n",
    "    print(\"You need to study more!\")\n"
   ]
  },
  {
   "cell_type": "code",
   "execution_count": 10,
   "id": "3184764e",
   "metadata": {},
   "outputs": [
    {
     "name": "stdout",
     "output_type": "stream",
     "text": [
      "unready kids\n"
     ]
    }
   ],
   "source": [
    "umur= 16\n",
    "negara = \"indonesia\"\n",
    "\n",
    "if umur >= 18 and negara == \"indonesia\":\n",
    "    print(\"KTP-ready\")\n",
    "else:\n",
    "    print(\"unready kids\")"
   ]
  },
  {
   "cell_type": "code",
   "execution_count": 17,
   "id": "467a7e21",
   "metadata": {},
   "outputs": [
    {
     "name": "stdout",
     "output_type": "stream",
     "text": [
      "Grade C\n"
     ]
    }
   ],
   "source": [
    "score = 70\n",
    "if score >= 90:\n",
    "    print(\"Grade A\")\n",
    "elif score >= 80 and score < 90:\n",
    "    print(\"Grade B\")\n",
    "elif score >= 70 and score < 80:\n",
    "    print(\"Grade C\")\n",
    "elif score < 70:\n",
    "    print(\"Better luck next time\")"
   ]
  },
  {
   "cell_type": "code",
   "execution_count": 7,
   "id": "ec228db1",
   "metadata": {},
   "outputs": [
    {
     "name": "stdout",
     "output_type": "stream",
     "text": [
      "You can watch rated R movies\n"
     ]
    }
   ],
   "source": [
    "age = int(input(\"How old are you? \"))\n",
    "if age >= 21:\n",
    "    print(\"You can drink alcohol in some countries\")\n",
    "elif age >= 17 and age < 21:\n",
    "    print(\"You can watch rated R movies\")\n",
    "else :\n",
    "    print(\"Just go watch cartoons, kid\")"
   ]
  },
  {
   "cell_type": "code",
   "execution_count": 11,
   "id": "43c6820b",
   "metadata": {},
   "outputs": [
    {
     "name": "stdout",
     "output_type": "stream",
     "text": [
      "You have an even number!\n"
     ]
    }
   ],
   "source": [
    "number = int(input(\"Insert some random number: \"))\n",
    "if number % 2 == 0:\n",
    "    print(\"You have an even number!\")\n",
    "else:\n",
    "    print(\"You have an odd number!\")"
   ]
  },
  {
   "cell_type": "code",
   "execution_count": 14,
   "id": "ee3e8890",
   "metadata": {},
   "outputs": [
    {
     "name": "stdout",
     "output_type": "stream",
     "text": [
      "Umur kamu 25\n"
     ]
    }
   ],
   "source": [
    "umur = (input(\"Masukkan umur: \"))\n",
    "if umur.isdigit():\n",
    "    umur = int(umur)\n",
    "    print(\"Umur kamu\", umur)\n",
    "else:\n",
    "    print(\"Itu bukan angka sob\")"
   ]
  }
 ],
 "metadata": {
  "kernelspec": {
   "display_name": "Python 3",
   "language": "python",
   "name": "python3"
  },
  "language_info": {
   "codemirror_mode": {
    "name": "ipython",
    "version": 3
   },
   "file_extension": ".py",
   "mimetype": "text/x-python",
   "name": "python",
   "nbconvert_exporter": "python",
   "pygments_lexer": "ipython3",
   "version": "3.10.11"
  }
 },
 "nbformat": 4,
 "nbformat_minor": 5
}
