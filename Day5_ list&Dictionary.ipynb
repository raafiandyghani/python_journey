{
 "cells": [
  {
   "cell_type": "code",
   "execution_count": null,
   "id": "ea106c01",
   "metadata": {},
   "outputs": [
    {
     "name": "stdout",
     "output_type": "stream",
     "text": [
      "potion\n"
     ]
    }
   ],
   "source": [
    "inventory = [\"sword\", \"potion\", \"shield\"]\n",
    "print(inventory[1])  # sword\n"
   ]
  },
  {
   "cell_type": "code",
   "execution_count": 26,
   "id": "b6588415",
   "metadata": {},
   "outputs": [
    {
     "name": "stdout",
     "output_type": "stream",
     "text": [
      "key\n",
      "['sword', 'potion', 'shield']\n"
     ]
    }
   ],
   "source": [
    "inventory.append(\"key\")  # nambah\n",
    "print(inventory[3])\n",
    "inventory.pop()\n",
    "print(inventory)"
   ]
  },
  {
   "cell_type": "code",
   "execution_count": 36,
   "id": "c2dc7902",
   "metadata": {},
   "outputs": [
    {
     "name": "stdout",
     "output_type": "stream",
     "text": [
      "Your favorite food is: noodle\n",
      "Your favorite food is: sushi\n",
      "Your favorite food is: steak\n",
      "Your favorite food is: burger\n"
     ]
    }
   ],
   "source": [
    "favourite_food = [\"noodle\",\"sushi\",\"steak\",\"burger\"]\n",
    "for food in favourite_food:\n",
    "    print(\"Your favorite food is:\", food)\n"
   ]
  },
  {
   "cell_type": "code",
   "execution_count": 37,
   "id": "dd12fa92",
   "metadata": {},
   "outputs": [
    {
     "name": "stdout",
     "output_type": "stream",
     "text": [
      "['noodle', 'sushi', 'steak', 'burger', 'mie ayam']\n",
      "['noodle', 'baso boraks', 'sushi', 'steak', 'burger', 'mie ayam']\n",
      "['noodle', 'baso boraks', 'steak', 'burger', 'mie ayam']\n"
     ]
    }
   ],
   "source": [
    "\n",
    "favourite_food.append(\"mie ayam\")\n",
    "print(favourite_food)\n",
    "favourite_food.insert(1, \"baso boraks\")\n",
    "print(favourite_food)\n",
    "favourite_food.pop(2)\n",
    "print(favourite_food)"
   ]
  },
  {
   "cell_type": "code",
   "execution_count": null,
   "id": "b51897a1",
   "metadata": {},
   "outputs": [
    {
     "name": "stdout",
     "output_type": "stream",
     "text": [
      "Raafi 21 coding\n"
     ]
    }
   ],
   "source": [
    "user = {\n",
    "    \"name\": \"Raafi\",\n",
    "    \"age\": 21,\n",
    "    \"hobby\": \"coding\"\n",
    "    \"is_student\": True\n",
    "}\n",
    "\n",
    "print(user[\"name\"],user[\"age\"],user[\"hobby\"] )  # Raafi\n"
   ]
  },
  {
   "cell_type": "code",
   "execution_count": 57,
   "id": "e80a1fa0",
   "metadata": {},
   "outputs": [
    {
     "name": "stdout",
     "output_type": "stream",
     "text": [
      "Name:  Raafi\n",
      "Age:  25\n",
      "Hobby:  Bola\n",
      "Major:  Electrical\n",
      "Graduated?: True\n"
     ]
    }
   ],
   "source": [
    "#is_graduated_input = input(\"Are you graduated? (yes/no): \").lower()\n",
    "#is_graduated = is_graduated_input == \"yes\"\n",
    "\n",
    "user = {\n",
    "    \"name\": input(\"What is your name? \"), \n",
    "    \"age\": int(input(\"How old are you? \")) ,\n",
    "    \"hobby\": input(\"what is your hobby?\"),\n",
    "    \"major\": input(\"What is your major?\"),\n",
    "    \"is_graduated\": input(\"Are you graduated? (yes/no): \").lower() == \"yes\"\n",
    "\n",
    "}\n",
    "\n",
    "print(\"Name: \", user[\"name\"])\n",
    "print(\"Age: \", user[\"age\"])\n",
    "print(\"Hobby: \", user[\"hobby\"])\n",
    "print(\"Major: \", user[\"major\"])\n",
    "print(\"Graduated?:\", user[\"is_graduated\"])\n"
   ]
  },
  {
   "cell_type": "code",
   "execution_count": 67,
   "id": "c405ea8f",
   "metadata": {},
   "outputs": [
    {
     "name": "stdout",
     "output_type": "stream",
     "text": [
      "Menu Hari ini: \n",
      "burger\n",
      "25000\n",
      "pizza\n",
      "30000\n",
      "es krim\n",
      "10000\n"
     ]
    }
   ],
   "source": [
    "menu1 = {\n",
    "    \"burger\": 25000,\n",
    "    \"pizza\": 30000,\n",
    "    \"es krim\": 10000\n",
    "}\n",
    "\n",
    "print(\"Menu Hari ini: \")\n",
    "for item, harga in menu1.items():\n",
    "    print(f\"{item}\")\n",
    "    print(f\"{harga}\")"
   ]
  },
  {
   "cell_type": "code",
   "execution_count": null,
   "id": "19e8e624",
   "metadata": {},
   "outputs": [
    {
     "name": "stdout",
     "output_type": "stream",
     "text": [
      "Menu Hari ini: \n",
      "mie ayam: 15000\n",
      "bakso bakar: 5000\n",
      "sate solo: 3000\n",
      "gultik: 10000\n",
      "air mineral: 5000\n",
      "es teh: 3000\n",
      "mie ayam added to your order! Anything else? \n",
      "bakso bakar added to your order! Anything else? \n",
      "sate solo added to your order! Anything else? \n",
      "Everything is done\n",
      "mie ayam: 15000\n",
      "bakso bakar: 5000\n",
      "sate solo: 3000\n",
      "Total harga:  23000\n",
      "mie ayam: 15000\n",
      "bakso bakar: 5000\n",
      "sate solo: 3000\n",
      "Total harga:  23000\n",
      "Payment successful. Thank you!\n"
     ]
    }
   ],
   "source": [
    "order_list = []\n",
    "menu = {\n",
    "    \"mie ayam\": 15000,\n",
    "    \"bakso bakar\": 5000,\n",
    "    \"sate solo\": 3000,\n",
    "    \"gultik\": 10000,\n",
    "    \"air mineral\": 5000,\n",
    "    \"es teh\": 3000\n",
    "}\n",
    "print(\"Menu Hari ini: \")\n",
    "for item, harga in menu.items():\n",
    "    print(f\"{item}: {harga}\")\n",
    "\n",
    "def order_food():\n",
    "    while True:\n",
    "        item = input(\"What do you want to order: \").lower().strip()\n",
    "        if item == \"done\":\n",
    "            print(\"Everything is done\")\n",
    "            break\n",
    "        elif item in menu:\n",
    "            order_list.append(item)\n",
    "            print(f\"{item} added to your order! Anything else? \")\n",
    "        else:\n",
    "            print(\"wrong input\")\n",
    "order_food()\n",
    "# disini order list nya udah keisi sama yang tadi kita append\n",
    "\n",
    "def bon():\n",
    "    total = 0\n",
    "    for item in order_list:\n",
    "        menu[item]\n",
    "        total += menu[item]\n",
    "        print(f\"{item}: {menu[item]}\")\n",
    "    print(\"Total harga: \", total)\n",
    "    return total\n",
    "bon()\n",
    "#jumlahin total harga\n",
    "\n",
    "def payment():\n",
    "    total = bon()\n",
    "    pay = input(f\"Your total is {total} Do you want to pay now yes/no?: \").lower()\n",
    "    if pay == \"yes\":\n",
    "        print(\"Payment successful. Thank you!\")\n",
    "    else:\n",
    "        print(\"Okay, please pay later\")\n",
    "\n",
    "payment()"
   ]
  }
 ],
 "metadata": {
  "kernelspec": {
   "display_name": "Python 3",
   "language": "python",
   "name": "python3"
  },
  "language_info": {
   "codemirror_mode": {
    "name": "ipython",
    "version": 3
   },
   "file_extension": ".py",
   "mimetype": "text/x-python",
   "name": "python",
   "nbconvert_exporter": "python",
   "pygments_lexer": "ipython3",
   "version": "3.10.11"
  }
 },
 "nbformat": 4,
 "nbformat_minor": 5
}
